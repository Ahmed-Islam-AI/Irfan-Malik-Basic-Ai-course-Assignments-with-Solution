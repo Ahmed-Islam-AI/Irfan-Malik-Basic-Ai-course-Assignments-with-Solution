{
  "nbformat": 4,
  "nbformat_minor": 0,
  "metadata": {
    "colab": {
      "provenance": []
    },
    "kernelspec": {
      "name": "python3",
      "display_name": "Python 3"
    },
    "language_info": {
      "name": "python"
    }
  },
  "cells": [
    {
      "cell_type": "markdown",
      "source": [
        "# Submitted By: Ahmed Islam\n",
        "# Assignment 11\n",
        "# Hope To Skills\n",
        "# Free Artificial Intelligence Course"
      ],
      "metadata": {
        "id": "uEWNde09sOD8"
      }
    },
    {
      "cell_type": "markdown",
      "source": [
        "# Installing Required Libraries\n"
      ],
      "metadata": {
        "id": "YdF500U_tAt5"
      }
    },
    {
      "cell_type": "code",
      "source": [
        "!pip install tensorflow"
      ],
      "metadata": {
        "colab": {
          "base_uri": "https://localhost:8080/"
        },
        "id": "JC3RQR8Js-kd",
        "outputId": "99131af4-9baa-4bb8-c64e-6a77120cf0d4"
      },
      "execution_count": null,
      "outputs": [
        {
          "output_type": "stream",
          "name": "stdout",
          "text": [
            "Requirement already satisfied: tensorflow in /usr/local/lib/python3.10/dist-packages (2.12.0)\n",
            "Requirement already satisfied: absl-py>=1.0.0 in /usr/local/lib/python3.10/dist-packages (from tensorflow) (1.4.0)\n",
            "Requirement already satisfied: astunparse>=1.6.0 in /usr/local/lib/python3.10/dist-packages (from tensorflow) (1.6.3)\n",
            "Requirement already satisfied: flatbuffers>=2.0 in /usr/local/lib/python3.10/dist-packages (from tensorflow) (23.5.26)\n",
            "Requirement already satisfied: gast<=0.4.0,>=0.2.1 in /usr/local/lib/python3.10/dist-packages (from tensorflow) (0.4.0)\n",
            "Requirement already satisfied: google-pasta>=0.1.1 in /usr/local/lib/python3.10/dist-packages (from tensorflow) (0.2.0)\n",
            "Requirement already satisfied: grpcio<2.0,>=1.24.3 in /usr/local/lib/python3.10/dist-packages (from tensorflow) (1.57.0)\n",
            "Requirement already satisfied: h5py>=2.9.0 in /usr/local/lib/python3.10/dist-packages (from tensorflow) (3.9.0)\n",
            "Requirement already satisfied: jax>=0.3.15 in /usr/local/lib/python3.10/dist-packages (from tensorflow) (0.4.14)\n",
            "Requirement already satisfied: keras<2.13,>=2.12.0 in /usr/local/lib/python3.10/dist-packages (from tensorflow) (2.12.0)\n",
            "Requirement already satisfied: libclang>=13.0.0 in /usr/local/lib/python3.10/dist-packages (from tensorflow) (16.0.6)\n",
            "Requirement already satisfied: numpy<1.24,>=1.22 in /usr/local/lib/python3.10/dist-packages (from tensorflow) (1.23.5)\n",
            "Requirement already satisfied: opt-einsum>=2.3.2 in /usr/local/lib/python3.10/dist-packages (from tensorflow) (3.3.0)\n",
            "Requirement already satisfied: packaging in /usr/local/lib/python3.10/dist-packages (from tensorflow) (23.1)\n",
            "Requirement already satisfied: protobuf!=4.21.0,!=4.21.1,!=4.21.2,!=4.21.3,!=4.21.4,!=4.21.5,<5.0.0dev,>=3.20.3 in /usr/local/lib/python3.10/dist-packages (from tensorflow) (3.20.3)\n",
            "Requirement already satisfied: setuptools in /usr/local/lib/python3.10/dist-packages (from tensorflow) (67.7.2)\n",
            "Requirement already satisfied: six>=1.12.0 in /usr/local/lib/python3.10/dist-packages (from tensorflow) (1.16.0)\n",
            "Requirement already satisfied: tensorboard<2.13,>=2.12 in /usr/local/lib/python3.10/dist-packages (from tensorflow) (2.12.3)\n",
            "Requirement already satisfied: tensorflow-estimator<2.13,>=2.12.0 in /usr/local/lib/python3.10/dist-packages (from tensorflow) (2.12.0)\n",
            "Requirement already satisfied: termcolor>=1.1.0 in /usr/local/lib/python3.10/dist-packages (from tensorflow) (2.3.0)\n",
            "Requirement already satisfied: typing-extensions>=3.6.6 in /usr/local/lib/python3.10/dist-packages (from tensorflow) (4.7.1)\n",
            "Requirement already satisfied: wrapt<1.15,>=1.11.0 in /usr/local/lib/python3.10/dist-packages (from tensorflow) (1.14.1)\n",
            "Requirement already satisfied: tensorflow-io-gcs-filesystem>=0.23.1 in /usr/local/lib/python3.10/dist-packages (from tensorflow) (0.33.0)\n",
            "Requirement already satisfied: wheel<1.0,>=0.23.0 in /usr/local/lib/python3.10/dist-packages (from astunparse>=1.6.0->tensorflow) (0.41.1)\n",
            "Requirement already satisfied: ml-dtypes>=0.2.0 in /usr/local/lib/python3.10/dist-packages (from jax>=0.3.15->tensorflow) (0.2.0)\n",
            "Requirement already satisfied: scipy>=1.7 in /usr/local/lib/python3.10/dist-packages (from jax>=0.3.15->tensorflow) (1.10.1)\n",
            "Requirement already satisfied: google-auth<3,>=1.6.3 in /usr/local/lib/python3.10/dist-packages (from tensorboard<2.13,>=2.12->tensorflow) (2.17.3)\n",
            "Requirement already satisfied: google-auth-oauthlib<1.1,>=0.5 in /usr/local/lib/python3.10/dist-packages (from tensorboard<2.13,>=2.12->tensorflow) (1.0.0)\n",
            "Requirement already satisfied: markdown>=2.6.8 in /usr/local/lib/python3.10/dist-packages (from tensorboard<2.13,>=2.12->tensorflow) (3.4.4)\n",
            "Requirement already satisfied: requests<3,>=2.21.0 in /usr/local/lib/python3.10/dist-packages (from tensorboard<2.13,>=2.12->tensorflow) (2.31.0)\n",
            "Requirement already satisfied: tensorboard-data-server<0.8.0,>=0.7.0 in /usr/local/lib/python3.10/dist-packages (from tensorboard<2.13,>=2.12->tensorflow) (0.7.1)\n",
            "Requirement already satisfied: werkzeug>=1.0.1 in /usr/local/lib/python3.10/dist-packages (from tensorboard<2.13,>=2.12->tensorflow) (2.3.7)\n",
            "Requirement already satisfied: cachetools<6.0,>=2.0.0 in /usr/local/lib/python3.10/dist-packages (from google-auth<3,>=1.6.3->tensorboard<2.13,>=2.12->tensorflow) (5.3.1)\n",
            "Requirement already satisfied: pyasn1-modules>=0.2.1 in /usr/local/lib/python3.10/dist-packages (from google-auth<3,>=1.6.3->tensorboard<2.13,>=2.12->tensorflow) (0.3.0)\n",
            "Requirement already satisfied: rsa<5,>=3.1.4 in /usr/local/lib/python3.10/dist-packages (from google-auth<3,>=1.6.3->tensorboard<2.13,>=2.12->tensorflow) (4.9)\n",
            "Requirement already satisfied: requests-oauthlib>=0.7.0 in /usr/local/lib/python3.10/dist-packages (from google-auth-oauthlib<1.1,>=0.5->tensorboard<2.13,>=2.12->tensorflow) (1.3.1)\n",
            "Requirement already satisfied: charset-normalizer<4,>=2 in /usr/local/lib/python3.10/dist-packages (from requests<3,>=2.21.0->tensorboard<2.13,>=2.12->tensorflow) (3.2.0)\n",
            "Requirement already satisfied: idna<4,>=2.5 in /usr/local/lib/python3.10/dist-packages (from requests<3,>=2.21.0->tensorboard<2.13,>=2.12->tensorflow) (3.4)\n",
            "Requirement already satisfied: urllib3<3,>=1.21.1 in /usr/local/lib/python3.10/dist-packages (from requests<3,>=2.21.0->tensorboard<2.13,>=2.12->tensorflow) (2.0.4)\n",
            "Requirement already satisfied: certifi>=2017.4.17 in /usr/local/lib/python3.10/dist-packages (from requests<3,>=2.21.0->tensorboard<2.13,>=2.12->tensorflow) (2023.7.22)\n",
            "Requirement already satisfied: MarkupSafe>=2.1.1 in /usr/local/lib/python3.10/dist-packages (from werkzeug>=1.0.1->tensorboard<2.13,>=2.12->tensorflow) (2.1.3)\n",
            "Requirement already satisfied: pyasn1<0.6.0,>=0.4.6 in /usr/local/lib/python3.10/dist-packages (from pyasn1-modules>=0.2.1->google-auth<3,>=1.6.3->tensorboard<2.13,>=2.12->tensorflow) (0.5.0)\n",
            "Requirement already satisfied: oauthlib>=3.0.0 in /usr/local/lib/python3.10/dist-packages (from requests-oauthlib>=0.7.0->google-auth-oauthlib<1.1,>=0.5->tensorboard<2.13,>=2.12->tensorflow) (3.2.2)\n"
          ]
        }
      ]
    },
    {
      "cell_type": "code",
      "source": [
        "!pip install keras"
      ],
      "metadata": {
        "colab": {
          "base_uri": "https://localhost:8080/"
        },
        "id": "uiIqqT9PtQgS",
        "outputId": "e39dea1a-06b6-4857-a0ac-1c943f71f9a4"
      },
      "execution_count": null,
      "outputs": [
        {
          "output_type": "stream",
          "name": "stdout",
          "text": [
            "Requirement already satisfied: keras in /usr/local/lib/python3.10/dist-packages (2.12.0)\n"
          ]
        }
      ]
    },
    {
      "cell_type": "markdown",
      "source": [
        "#1. Loading Required Packages"
      ],
      "metadata": {
        "id": "DSKYXMSAsilB"
      }
    },
    {
      "cell_type": "code",
      "source": [
        "from tensorflow.keras.models import Sequential\n",
        "from tensorflow.keras.layers import Dense\n",
        "from tensorflow.keras.utils import to_categorical\n",
        "import matplotlib.pyplot as plt\n",
        "import numpy as np\n",
        "from sklearn.metrics import accuracy_score"
      ],
      "metadata": {
        "id": "Jm7DyzpgtbEJ"
      },
      "execution_count": 1,
      "outputs": []
    },
    {
      "cell_type": "markdown",
      "source": [
        "\n",
        "#2. Loading and Split the data into x_train, y_train, x_test and y_test."
      ],
      "metadata": {
        "id": "fQU_6Wm6uHir"
      }
    },
    {
      "cell_type": "code",
      "source": [
        "from tensorflow.keras.datasets import fashion_mnist"
      ],
      "metadata": {
        "id": "PzLe_DLhcWk8"
      },
      "execution_count": 2,
      "outputs": []
    },
    {
      "cell_type": "code",
      "source": [
        "#spliting the dataset into Train Test set\n",
        "(x_train,y_train),(x_test,y_test)  = fashion_mnist.load_data()"
      ],
      "metadata": {
        "colab": {
          "base_uri": "https://localhost:8080/"
        },
        "id": "-spczJ7DuLYi",
        "outputId": "27e09b69-4849-480a-8e1c-fb3a750dca44"
      },
      "execution_count": 3,
      "outputs": [
        {
          "output_type": "stream",
          "name": "stdout",
          "text": [
            "Downloading data from https://storage.googleapis.com/tensorflow/tf-keras-datasets/train-labels-idx1-ubyte.gz\n",
            "29515/29515 [==============================] - 0s 0us/step\n",
            "Downloading data from https://storage.googleapis.com/tensorflow/tf-keras-datasets/train-images-idx3-ubyte.gz\n",
            "26421880/26421880 [==============================] - 1s 0us/step\n",
            "Downloading data from https://storage.googleapis.com/tensorflow/tf-keras-datasets/t10k-labels-idx1-ubyte.gz\n",
            "5148/5148 [==============================] - 0s 0us/step\n",
            "Downloading data from https://storage.googleapis.com/tensorflow/tf-keras-datasets/t10k-images-idx3-ubyte.gz\n",
            "4422102/4422102 [==============================] - 1s 0us/step\n"
          ]
        }
      ]
    },
    {
      "cell_type": "markdown",
      "source": [
        "### 1. Display the sample images from x_train"
      ],
      "metadata": {
        "id": "IXyl5WZdNbLz"
      }
    },
    {
      "cell_type": "code",
      "source": [
        "plt.figure(figsize=(10, 5))\n",
        "for i in range(5):\n",
        "    plt.subplot(1, 5, i+1)\n",
        "    plt.imshow(x_train[i], cmap='gray')\n",
        "    plt.axis('off')\n",
        "plt.show()"
      ],
      "metadata": {
        "colab": {
          "base_uri": "https://localhost:8080/",
          "height": 170
        },
        "id": "hrIA4fMVNw92",
        "outputId": "9250748b-e3f1-432c-bfad-0cc5e58e0cd5"
      },
      "execution_count": 4,
      "outputs": [
        {
          "output_type": "display_data",
          "data": {
            "text/plain": [
              "<Figure size 1000x500 with 5 Axes>"
            ],
            "image/png": "[encoded data removed]"
          },
          "metadata": {}
        }
      ]
    },
    {
      "cell_type": "markdown",
      "source": [
        "### 2. Display the shape of x_train and y_train"
      ],
      "metadata": {
        "id": "ccySPh1JNkKQ"
      }
    },
    {
      "cell_type": "code",
      "source": [
        "# Display the shape of x_train and y_train\n",
        "print(\"x_train shape:\", x_train.shape)\n",
        "print(\"y_train shape:\", y_train.shape)"
      ],
      "metadata": {
        "colab": {
          "base_uri": "https://localhost:8080/"
        },
        "id": "JzzFv9R9LnzT",
        "outputId": "e9820dfa-ce97-4001-8add-c0243cf491cb"
      },
      "execution_count": 5,
      "outputs": [
        {
          "output_type": "stream",
          "name": "stdout",
          "text": [
            "x_train shape: (60000, 28, 28)\n",
            "y_train shape: (60000,)\n"
          ]
        }
      ]
    },
    {
      "cell_type": "markdown",
      "source": [
        "#3. Displaying The Dataset\n"
      ],
      "metadata": {
        "id": "TTXDvOjNvBgL"
      }
    },
    {
      "cell_type": "code",
      "source": [
        "#number of images to be display\n",
        "n=20\n",
        "#plot figure size\n",
        "plt.figure(figsize=(20,4))\n",
        "#loop for each image displaying\n",
        "\n",
        "for i in range(n):\n",
        "    ax= plt.subplot(2, n, i+1) #subplot (a smaller section of the figure) where the image will be displayed.\n",
        "    plt.imshow(x_test[i].reshape(28,28))\n",
        "\n",
        "    #set color black and white\n",
        "    plt.gray()\n",
        "\n",
        "    #hiding x and y labels\n",
        "\n",
        "    ax.get_xaxis().set_visible(False)\n",
        "    ax.get_yaxis().set_visible(False)\n",
        "\n",
        "plt.show()\n",
        "\n",
        "plt.close()\n"
      ],
      "metadata": {
        "colab": {
          "base_uri": "https://localhost:8080/",
          "height": 84
        },
        "id": "cagRR10vvGed",
        "outputId": "358f2992-041a-4163-ddee-4ce375243bb9"
      },
      "execution_count": 6,
      "outputs": [
        {
          "output_type": "display_data",
          "data": {
            "text/plain": [
              "<Figure size 2000x400 with 20 Axes>"
            ],
            "image/png": "[encoded data removed]"
          },
          "metadata": {}
        }
      ]
    },
    {
      "cell_type": "markdown",
      "source": [
        "#4. Flattening the Images\n"
      ],
      "metadata": {
        "id": "5_GVTwV9bKnr"
      }
    },
    {
      "cell_type": "markdown",
      "source": [
        "### 1. Reshape the images from 28x28 to 784-dimension vector."
      ],
      "metadata": {
        "id": "DjWjtT9HQB6A"
      }
    },
    {
      "cell_type": "code",
      "source": [
        "#Reshape the Training and testing  data\n",
        "\n",
        "x_train= x_train.reshape(60000, 784)\n",
        "x_test = x_test.reshape(10000, 784)"
      ],
      "metadata": {
        "id": "dSiF3Lo7bSjn"
      },
      "execution_count": 7,
      "outputs": []
    },
    {
      "cell_type": "code",
      "source": [
        "# After Flattening now the shape of dataset is\n",
        "\n",
        "x_train"
      ],
      "metadata": {
        "colab": {
          "base_uri": "https://localhost:8080/"
        },
        "id": "jDOWY8aYKxsB",
        "outputId": "a3d79a20-d295-41c5-e70c-0103202c1423"
      },
      "execution_count": 8,
      "outputs": [
        {
          "output_type": "execute_result",
          "data": {
            "text/plain": [
              "array([[0, 0, 0, ..., 0, 0, 0],\n",
              "       [0, 0, 0, ..., 0, 0, 0],\n",
              "       [0, 0, 0, ..., 0, 0, 0],\n",
              "       ...,\n",
              "       [0, 0, 0, ..., 0, 0, 0],\n",
              "       [0, 0, 0, ..., 0, 0, 0],\n",
              "       [0, 0, 0, ..., 0, 0, 0]], dtype=uint8)"
            ]
          },
          "metadata": {},
          "execution_count": 8
        }
      ]
    },
    {
      "cell_type": "markdown",
      "source": [
        "#5. Data Scaling"
      ],
      "metadata": {
        "id": "XkCe-MduLJVW"
      }
    },
    {
      "cell_type": "markdown",
      "source": [
        "### 1. Convert the data into float 32 type\n",
        "### 2. Scale the data by dividing x_train and y_train by 255"
      ],
      "metadata": {
        "id": "lcD31YvRQS94"
      }
    },
    {
      "cell_type": "code",
      "source": [
        "# Convert the data to float32 type and scale by dividing by 255\n",
        "# Normalize the pixel values to a range between 0 and 1  # Zero is for Black  #1 for White\n",
        "x_train = x_train.astype(\"float32\")/255.0\n",
        "x_test = x_test.astype('float32')/255.0"
      ],
      "metadata": {
        "id": "4wEcOqJeLHSp"
      },
      "execution_count": 9,
      "outputs": []
    },
    {
      "cell_type": "markdown",
      "source": [
        "\n",
        "\n",
        "### 3.   Display the shape of x_train after scaling\n",
        "\n",
        "\n"
      ],
      "metadata": {
        "id": "4UoMuJSWQvh_"
      }
    },
    {
      "cell_type": "code",
      "source": [
        "# Display shapes after scaling\n",
        "\n",
        "print(\"x_train shape (after scaling):\", x_train.shape)\n",
        "print(\"y_train shape (after scaling):\", y_train.shape)"
      ],
      "metadata": {
        "colab": {
          "base_uri": "https://localhost:8080/"
        },
        "id": "yYTV1B98Qu15",
        "outputId": "4d7940c6-ed54-48f5-bbe7-dc826501b1b0"
      },
      "execution_count": 10,
      "outputs": [
        {
          "output_type": "stream",
          "name": "stdout",
          "text": [
            "x_train shape (after scaling): (60000, 784)\n",
            "y_train shape (after scaling): (60000,)\n"
          ]
        }
      ]
    },
    {
      "cell_type": "markdown",
      "source": [
        "# One Hot Encoding"
      ],
      "metadata": {
        "id": "NLkrHURmV9tl"
      }
    },
    {
      "cell_type": "code",
      "source": [
        "#number of classes\n",
        "\n",
        "num_classes= 10\n",
        "\n",
        "y_train = to_categorical(y_train, num_classes)\n",
        "y_test = to_categorical(y_test, num_classes)\n",
        "\n",
        "print(\"New Y_train shape {},\\n New y_test shape{}\".format(y_train.shape, y_test.shape))"
      ],
      "metadata": {
        "colab": {
          "base_uri": "https://localhost:8080/"
        },
        "id": "0mmrABQ5V7rl",
        "outputId": "ac3d7853-7c7b-4c14-9aab-266bb802b4af"
      },
      "execution_count": 11,
      "outputs": [
        {
          "output_type": "stream",
          "name": "stdout",
          "text": [
            "New Y_train shape (60000, 10),\n",
            " New y_test shape(10000, 10)\n"
          ]
        }
      ]
    },
    {
      "cell_type": "markdown",
      "source": [
        "# 6. Define the hyper parameters for the neural networks"
      ],
      "metadata": {
        "id": "4wGOH6H8RW-L"
      }
    },
    {
      "cell_type": "code",
      "source": [
        "# Learning rate\n",
        "learning_rate = 0.001\n",
        "\n",
        "# Set the number of complete passes through the dataset during training\n",
        "num_epochs = 40\n",
        "\n",
        "# Specify the number of data samples to process in each batch\n",
        "batch_size = 200\n",
        "\n",
        "# Define the input size for each data sample (e.g., image pixels)\n",
        "input_size = 784\n",
        "\n",
        "# number of neurons in the first hidden layer\n",
        "hidden_layer1 = 500\n",
        "\n",
        "# number of neurons in the Second hidden layer\n",
        "hidden_layer2 = 150\n",
        "\n",
        "# number of neurons in the Third hidden layer\n",
        "hidden_layer3= 100\n",
        "\n",
        "# number of neurons in the fourth hidden layer\n",
        "hidden_layer4= 50\n",
        "\n",
        "# number of neurons in the fourth hidden layer\n",
        "#hidden_layer5= 30\n",
        "\n",
        "# Define the total number of classes/categories in the dataset\n",
        "num_classes = 10       # 10 classes in Fashion MNIST"
      ],
      "metadata": {
        "id": "B-zi2XajRfqc"
      },
      "execution_count": 20,
      "outputs": []
    },
    {
      "cell_type": "markdown",
      "source": [
        "#7. Define the structure of your neural network"
      ],
      "metadata": {
        "id": "fbZ0jb_jUWdq"
      }
    },
    {
      "cell_type": "code",
      "source": [
        "#building model\n",
        "\n",
        "model= Sequential()\n",
        "\n",
        "model.add(Dense(hidden_layer1, input_dim = input_size, activation= 'relu'))\n",
        "model.add(Dense(hidden_layer2, activation= 'relu'))\n",
        "model.add(Dense(hidden_layer3, activation= 'relu'))\n",
        "model.add(Dense(hidden_layer4, activation= 'relu'))\n",
        "#model.add(Dense(hidden_layer5, activation= 'relu'))\n",
        "\n",
        "model.add(Dense(num_classes, activation='softmax'))\n"
      ],
      "metadata": {
        "id": "q3jFMu7icw3p"
      },
      "execution_count": 21,
      "outputs": []
    },
    {
      "cell_type": "markdown",
      "source": [
        "#8. Model Compile"
      ],
      "metadata": {
        "id": "t_Fd3AcGelU7"
      }
    },
    {
      "cell_type": "code",
      "source": [
        "model.compile(loss=\"categorical_crossentropy\", metrics=[\"accuracy\"], optimizer= 'sgd')"
      ],
      "metadata": {
        "id": "ywBFzjAMek6t"
      },
      "execution_count": 22,
      "outputs": []
    },
    {
      "cell_type": "markdown",
      "source": [
        "# 9. Model summary"
      ],
      "metadata": {
        "id": "jQQ5uuDwfTUP"
      }
    },
    {
      "cell_type": "code",
      "source": [
        "model.summary()"
      ],
      "metadata": {
        "colab": {
          "base_uri": "https://localhost:8080/"
        },
        "id": "fiGrd6h_fS5W",
        "outputId": "eed69531-ab0c-4376-9868-5ce354a96295"
      },
      "execution_count": 23,
      "outputs": [
        {
          "output_type": "stream",
          "name": "stdout",
          "text": [
            "Model: \"sequential_1\"\n",
            "_________________________________________________________________\n",
            " Layer (type)                Output Shape              Param #   \n",
            "=================================================================\n",
            " dense_6 (Dense)             (None, 500)               392500    \n",
            "                                                                 \n",
            " dense_7 (Dense)             (None, 150)               75150     \n",
            "                                                                 \n",
            " dense_8 (Dense)             (None, 100)               15100     \n",
            "                                                                 \n",
            " dense_9 (Dense)             (None, 50)                5050      \n",
            "                                                                 \n",
            " dense_10 (Dense)            (None, 10)                510       \n",
            "                                                                 \n",
            "=================================================================\n",
            "Total params: 488,310\n",
            "Trainable params: 488,310\n",
            "Non-trainable params: 0\n",
            "_________________________________________________________________\n"
          ]
        }
      ]
    },
    {
      "cell_type": "markdown",
      "source": [
        "#10. Train the Neural Network"
      ],
      "metadata": {
        "id": "rjp0zsQQgHOY"
      }
    },
    {
      "cell_type": "code",
      "source": [
        "history = model.fit(x_train, y_train, epochs=num_epochs, batch_size=batch_size, verbose= 1)\n"
      ],
      "metadata": {
        "id": "DsGFaTZbgNOH",
        "colab": {
          "base_uri": "https://localhost:8080/"
        },
        "outputId": "c607d2e8-dafd-4b65-c842-4dcd42e27cc3"
      },
      "execution_count": 24,
      "outputs": [
        {
          "output_type": "stream",
          "name": "stdout",
          "text": [
            "Epoch 1/40\n",
            "300/300 [==============================] - 6s 17ms/step - loss: 1.3685 - accuracy: 0.5818\n",
            "Epoch 2/40\n",
            "300/300 [==============================] - 4s 14ms/step - loss: 0.7229 - accuracy: 0.7504\n",
            "Epoch 3/40\n",
            "300/300 [==============================] - 5s 15ms/step - loss: 0.6104 - accuracy: 0.7864\n",
            "Epoch 4/40\n",
            "300/300 [==============================] - 5s 18ms/step - loss: 0.5515 - accuracy: 0.8054\n",
            "Epoch 5/40\n",
            "300/300 [==============================] - 4s 14ms/step - loss: 0.5164 - accuracy: 0.8181\n",
            "Epoch 6/40\n",
            "300/300 [==============================] - 4s 15ms/step - loss: 0.4899 - accuracy: 0.8271\n",
            "Epoch 7/40\n",
            "300/300 [==============================] - 5s 18ms/step - loss: 0.4734 - accuracy: 0.8325\n",
            "Epoch 8/40\n",
            "300/300 [==============================] - 4s 14ms/step - loss: 0.4544 - accuracy: 0.8398\n",
            "Epoch 9/40\n",
            "300/300 [==============================] - 4s 13ms/step - loss: 0.4403 - accuracy: 0.8447\n",
            "Epoch 10/40\n",
            "300/300 [==============================] - 5s 17ms/step - loss: 0.4325 - accuracy: 0.8478\n",
            "Epoch 11/40\n",
            "300/300 [==============================] - 4s 13ms/step - loss: 0.4221 - accuracy: 0.8506\n",
            "Epoch 12/40\n",
            "300/300 [==============================] - 4s 13ms/step - loss: 0.4126 - accuracy: 0.8550\n",
            "Epoch 13/40\n",
            "300/300 [==============================] - 5s 18ms/step - loss: 0.4033 - accuracy: 0.8593\n",
            "Epoch 14/40\n",
            "300/300 [==============================] - 4s 14ms/step - loss: 0.3954 - accuracy: 0.8605\n",
            "Epoch 15/40\n",
            "300/300 [==============================] - 4s 14ms/step - loss: 0.3900 - accuracy: 0.8617\n",
            "Epoch 16/40\n",
            "300/300 [==============================] - 5s 17ms/step - loss: 0.3852 - accuracy: 0.8647\n",
            "Epoch 17/40\n",
            "300/300 [==============================] - 4s 14ms/step - loss: 0.3768 - accuracy: 0.8677\n",
            "Epoch 18/40\n",
            "300/300 [==============================] - 5s 16ms/step - loss: 0.3717 - accuracy: 0.8682\n",
            "Epoch 19/40\n",
            "300/300 [==============================] - 6s 20ms/step - loss: 0.3684 - accuracy: 0.8708\n",
            "Epoch 20/40\n",
            "300/300 [==============================] - 4s 14ms/step - loss: 0.3632 - accuracy: 0.8721\n",
            "Epoch 21/40\n",
            "300/300 [==============================] - 4s 14ms/step - loss: 0.3589 - accuracy: 0.8736\n",
            "Epoch 22/40\n",
            "300/300 [==============================] - 5s 18ms/step - loss: 0.3544 - accuracy: 0.8755\n",
            "Epoch 23/40\n",
            "300/300 [==============================] - 4s 14ms/step - loss: 0.3514 - accuracy: 0.8754\n",
            "Epoch 24/40\n",
            "300/300 [==============================] - 4s 14ms/step - loss: 0.3450 - accuracy: 0.8773\n",
            "Epoch 25/40\n",
            "300/300 [==============================] - 5s 18ms/step - loss: 0.3418 - accuracy: 0.8789\n",
            "Epoch 26/40\n",
            "300/300 [==============================] - 4s 14ms/step - loss: 0.3405 - accuracy: 0.8793\n",
            "Epoch 27/40\n",
            "300/300 [==============================] - 4s 14ms/step - loss: 0.3339 - accuracy: 0.8817\n",
            "Epoch 28/40\n",
            "300/300 [==============================] - 5s 17ms/step - loss: 0.3297 - accuracy: 0.8820\n",
            "Epoch 29/40\n",
            "300/300 [==============================] - 4s 14ms/step - loss: 0.3271 - accuracy: 0.8842\n",
            "Epoch 30/40\n",
            "300/300 [==============================] - 5s 17ms/step - loss: 0.3244 - accuracy: 0.8836\n",
            "Epoch 31/40\n",
            "300/300 [==============================] - 5s 16ms/step - loss: 0.3208 - accuracy: 0.8860\n",
            "Epoch 32/40\n",
            "300/300 [==============================] - 4s 14ms/step - loss: 0.3173 - accuracy: 0.8866\n",
            "Epoch 33/40\n",
            "300/300 [==============================] - 5s 16ms/step - loss: 0.3136 - accuracy: 0.8878\n",
            "Epoch 34/40\n",
            "300/300 [==============================] - 4s 15ms/step - loss: 0.3105 - accuracy: 0.8883\n",
            "Epoch 35/40\n",
            "300/300 [==============================] - 4s 14ms/step - loss: 0.3064 - accuracy: 0.8906\n",
            "Epoch 36/40\n",
            "300/300 [==============================] - 5s 17ms/step - loss: 0.3065 - accuracy: 0.8899\n",
            "Epoch 37/40\n",
            "300/300 [==============================] - 4s 14ms/step - loss: 0.3033 - accuracy: 0.8918\n",
            "Epoch 38/40\n",
            "300/300 [==============================] - 4s 13ms/step - loss: 0.3013 - accuracy: 0.8924\n",
            "Epoch 39/40\n",
            "300/300 [==============================] - 5s 18ms/step - loss: 0.2974 - accuracy: 0.8934\n",
            "Epoch 40/40\n",
            "300/300 [==============================] - 4s 14ms/step - loss: 0.2946 - accuracy: 0.8944\n"
          ]
        }
      ]
    },
    {
      "cell_type": "markdown",
      "source": [
        "#11. Testing The Model"
      ],
      "metadata": {
        "id": "0Jj7sMMOT3K4"
      }
    },
    {
      "cell_type": "markdown",
      "source": [
        "### 1. Accuracy of the model"
      ],
      "metadata": {
        "id": "cxS7MGjPUQiu"
      }
    },
    {
      "cell_type": "code",
      "source": [
        "y_pred_prob= model.predict(x_test, verbose=0)\n",
        "y_pred= np.where(y_pred_prob >0.5, 1, 0)\n",
        "\n",
        "test_accuracy= round(accuracy_score(y_pred,y_test)*100,2)"
      ],
      "metadata": {
        "id": "n-uILQBq8fdI"
      },
      "execution_count": 25,
      "outputs": []
    },
    {
      "cell_type": "code",
      "source": [
        "# Compare training and testing accuracy\n",
        "train_accuracy = round(history.history['accuracy'][-1]*100,2)  # Get the last epoch's training accuracy\n",
        "print(f\"Training accuracy: {train_accuracy}% , Testing accuracy: {test_accuracy}%\")"
      ],
      "metadata": {
        "colab": {
          "base_uri": "https://localhost:8080/"
        },
        "id": "JTXvsburVD-H",
        "outputId": "eebe89fa-0673-43ee-e44c-f62dbbdcba48"
      },
      "execution_count": 26,
      "outputs": [
        {
          "output_type": "stream",
          "name": "stdout",
          "text": [
            "Training accuracy: 89.44% , Testing accuracy: 84.45%\n"
          ]
        }
      ]
    },
    {
      "cell_type": "markdown",
      "source": [
        "### 2. Compare the training and testing accuracy and write you observation in the comments\n",
        "\n",
        ""
      ],
      "metadata": {
        "id": "rEpFBXW_oAoX"
      }
    },
    {
      "cell_type": "markdown",
      "source": [
        "The training accuracy is higher than the testing accuracy. This statement show that the model might be somewhat overfitting the training data. Model capturing more details. Achieving a perfect balance between training and testing accuracy is not always possible."
      ],
      "metadata": {
        "id": "BAdEGORVqWTT"
      }
    },
    {
      "cell_type": "markdown",
      "source": [
        "###3. Display the predicted labels along the input image.\n"
      ],
      "metadata": {
        "id": "Q1JsvD6sqLq0"
      }
    },
    {
      "cell_type": "code",
      "source": [
        "# Define a mask for selecting a range of indices (20 to 49)\n",
        "mask = range(5, 30)\n",
        "\n",
        "# Select the first 20 samples from the test set for visualization\n",
        "X_valid = x_test[0:10]\n",
        "actual_labels = y_test[0:5]\n",
        "\n",
        "# Predict probabilities for the selected validation samples\n",
        "y_pred_probs_valid = model.predict(X_valid)\n",
        "y_pred_valid = np.where(y_pred_probs_valid > 0.5, 1, 0)"
      ],
      "metadata": {
        "colab": {
          "base_uri": "https://localhost:8080/"
        },
        "id": "Fz4-twdM-1zl",
        "outputId": "98ddc278-b625-4515-e542-9a07500ba950"
      },
      "execution_count": 27,
      "outputs": [
        {
          "output_type": "stream",
          "name": "stdout",
          "text": [
            "1/1 [==============================] - 0s 22ms/step\n"
          ]
        }
      ]
    },
    {
      "cell_type": "code",
      "source": [
        "label_mapping = {\n",
        "    0: \"T-shirt/top\",\n",
        "    1: \"Trouser\",\n",
        "    2: \"Pullover\",\n",
        "    3: \"Dress\",\n",
        "    4: \"Coat\",\n",
        "    5: \"Sandal\",\n",
        "    6: \"Shirt\",\n",
        "    7: \"Sneaker\",\n",
        "    8: \"Bag\",\n",
        "    9: \"Ankle boot\"\n",
        "}"
      ],
      "metadata": {
        "id": "MTNtFD6VDgkb"
      },
      "execution_count": 28,
      "outputs": []
    },
    {
      "cell_type": "code",
      "source": [
        "# Set up a figure to display images\n",
        "n = len(X_valid)\n",
        "plt.figure(figsize=(20, 4))\n",
        "\n",
        "for i in range(n):\n",
        "    # Display the original image\n",
        "    ax = plt.subplot(2, n, i + 1)\n",
        "    plt.imshow(X_valid[i].reshape(28, 28))\n",
        "    plt.gray()\n",
        "    ax.get_xaxis().set_visible(False)\n",
        "    ax.get_yaxis().set_visible(False)\n",
        "\n",
        "    # Display the predicted label\n",
        "    predicted_digit = np.argmax(y_pred_probs_valid[i])\n",
        "    predicted_label = label_mapping[predicted_digit]\n",
        "    ax = plt.subplot(2, n, i + 1 + n)\n",
        "    plt.text(0.5, 0.5, predicted_label, fontsize=12, ha='center', va='center')\n",
        "    plt.axis('off')\n",
        "\n",
        "# Show the plotted images\n",
        "plt.show()\n",
        "\n",
        "# Close the plot\n",
        "plt.close()\n"
      ],
      "metadata": {
        "colab": {
          "base_uri": "https://localhost:8080/",
          "height": 273
        },
        "id": "j7UWT4yEDVM4",
        "outputId": "fc2f76d1-4110-41f5-9078-f9e3bbe13627"
      },
      "execution_count": 29,
      "outputs": [
        {
          "output_type": "display_data",
          "data": {
            "text/plain": [
              "<Figure size 2000x400 with 20 Axes>"
            ],
            "image/png": "[encoded data removed]"
          },
          "metadata": {}
        }
      ]
    }
  ]
}