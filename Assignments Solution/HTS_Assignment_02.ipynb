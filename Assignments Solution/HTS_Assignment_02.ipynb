{
  "nbformat": 4,
  "nbformat_minor": 0,
  "metadata": {
    "colab": {
      "provenance": [],
      "gpuType": "T4"
    },
    "kernelspec": {
      "name": "python3",
      "display_name": "Python 3"
    },
    "language_info": {
      "name": "python"
    },
    "accelerator": "GPU"
  },
  "cells": [
    {
      "cell_type": "markdown",
      "source": [
        "#### **Create a list named \"fruits\" containing three different fruits.**"
      ],
      "metadata": {
        "id": "4_Uij7BOyukn"
      }
    },
    {
      "cell_type": "code",
      "execution_count": null,
      "metadata": {
        "colab": {
          "base_uri": "https://localhost:8080/"
        },
        "id": "xFGAJULzLhSj",
        "outputId": "74821e9b-5212-43ba-e552-08d38eedd3cf"
      },
      "outputs": [
        {
          "output_type": "stream",
          "name": "stdout",
          "text": [
            "['Apple', 'Banana', 'Mango']\n"
          ]
        }
      ],
      "source": [
        "# list\n",
        "fruits = [\"Apple\", \"Banana\", \"Mango\"]\n",
        "print(fruits)"
      ]
    },
    {
      "cell_type": "markdown",
      "source": [
        "#### **Create a tuple named \"numbers\" with five random numbers.**"
      ],
      "metadata": {
        "id": "6H5Su-cFy-2z"
      }
    },
    {
      "cell_type": "code",
      "source": [
        "# tuple\n",
        "numbers = (2,3,6,7,9)\n",
        "print(numbers)"
      ],
      "metadata": {
        "colab": {
          "base_uri": "https://localhost:8080/"
        },
        "id": "8uTs3dsBMH0u",
        "outputId": "23d06695-9e84-4753-d387-7e108410753c"
      },
      "execution_count": null,
      "outputs": [
        {
          "output_type": "stream",
          "name": "stdout",
          "text": [
            "(2, 3, 6, 7, 9)\n"
          ]
        }
      ]
    },
    {
      "cell_type": "markdown",
      "source": [
        "#### **Create a set named \"colors\" with three different colors.**"
      ],
      "metadata": {
        "id": "oKqjb76Dzb5X"
      }
    },
    {
      "cell_type": "code",
      "source": [
        "# set\n",
        "colors = {\"Blue\", \"Brown\", \"Black\"}\n",
        "print(colors)"
      ],
      "metadata": {
        "colab": {
          "base_uri": "https://localhost:8080/"
        },
        "id": "h0mhASKRNDYH",
        "outputId": "3b1ca86e-6ae3-499f-e409-72115c9acb45"
      },
      "execution_count": null,
      "outputs": [
        {
          "output_type": "stream",
          "name": "stdout",
          "text": [
            "{'Black', 'Blue', 'Brown'}\n"
          ]
        }
      ]
    },
    {
      "cell_type": "markdown",
      "source": [
        "#### **Create a dictionary named \"student\" with the following key-value pairs:**\n",
        " - \"name\" as the key and the students's name as the value.\n",
        " - \"age\" as the key and the students's age as the value.\n",
        " - \"grade\" as the key and the students's grade as the value."
      ],
      "metadata": {
        "id": "5rWzaaXHzn6f"
      }
    },
    {
      "cell_type": "code",
      "source": [
        "# dictionary\n",
        "student = {\n",
        "    \"name\": \"Ali\",\n",
        "    \"age\": 21,\n",
        "    \"grade\": \"A+\"\n",
        "}\n",
        "print(student)"
      ],
      "metadata": {
        "colab": {
          "base_uri": "https://localhost:8080/"
        },
        "id": "0yOb3sPpNQiR",
        "outputId": "15937235-857c-404b-fe30-d11239b0f81b"
      },
      "execution_count": null,
      "outputs": [
        {
          "output_type": "stream",
          "name": "stdout",
          "text": [
            "{'name': 'Ali', 'age': 21, 'grade': 'A+'}\n"
          ]
        }
      ]
    },
    {
      "cell_type": "markdown",
      "source": [
        "#### **Create a multi-line string named \"poem\" with a short poem of your choice.**"
      ],
      "metadata": {
        "id": "oMHZ099A0MPz"
      }
    },
    {
      "cell_type": "code",
      "source": [
        "# multi-line string\n",
        "poem = '''\n",
        "In twilight's glow, a love does bloom,\n",
        "A gentle whisper, a sweet perfume.\n",
        "Two hearts entwined, forever true,\n",
        "A bond unbreakable, between me and you.\n",
        "\n",
        "With every touch, a spark ignites,\n",
        "In your embrace, my soul takes flight.\n",
        "Through laughter and tears, we'll always be,\n",
        "A love story written for eternity.\n",
        "\n",
        "So let us cherish this love we've found,\n",
        "In a world of chaos, let us be profound.\n",
        "For in your arms, I've found my retreat,\n",
        "A love so pure, so tender, so sweet.'''\n",
        "\n",
        "print(poem)"
      ],
      "metadata": {
        "colab": {
          "base_uri": "https://localhost:8080/"
        },
        "id": "0Z4ZgglLOb7o",
        "outputId": "22d0b7c1-3783-4ec0-b8b5-1edeaf935f81"
      },
      "execution_count": null,
      "outputs": [
        {
          "output_type": "stream",
          "name": "stdout",
          "text": [
            "\n",
            "In twilight's glow, a love does bloom,\n",
            "A gentle whisper, a sweet perfume.\n",
            "Two hearts entwined, forever true,\n",
            "A bond unbreakable, between me and you.\n",
            "\n",
            "With every touch, a spark ignites,\n",
            "In your embrace, my soul takes flight.\n",
            "Through laughter and tears, we'll always be,\n",
            "A love story written for eternity.\n",
            "\n",
            "So let us cherish this love we've found,\n",
            "In a world of chaos, let us be profound.\n",
            "For in your arms, I've found my retreat,\n",
            "A love so pure, so tender, so sweet.\n"
          ]
        }
      ]
    },
    {
      "cell_type": "markdown",
      "source": [
        "#### **Write an if statement to check if the length of the \"fruits\" list is greater than 3. If it is, print \"You have many fruits!\"**"
      ],
      "metadata": {
        "id": "JGU0UyM10aQv"
      }
    },
    {
      "cell_type": "code",
      "source": [
        "# if condition\n",
        "fruits = [\"apple\", \"banana\", \"cherry\", \"mango\"]\n",
        "fruits_length = len(fruits)\n",
        "if fruits_length > 3:\n",
        "  print(\"You have many fruits!\")"
      ],
      "metadata": {
        "id": "xCNWd-e0O4N_",
        "outputId": "dad50c0a-68e2-4afd-b928-d55a20d9673a",
        "colab": {
          "base_uri": "https://localhost:8080/"
        }
      },
      "execution_count": null,
      "outputs": [
        {
          "output_type": "stream",
          "name": "stdout",
          "text": [
            "You have many fruits!\n"
          ]
        }
      ]
    }
  ]
}