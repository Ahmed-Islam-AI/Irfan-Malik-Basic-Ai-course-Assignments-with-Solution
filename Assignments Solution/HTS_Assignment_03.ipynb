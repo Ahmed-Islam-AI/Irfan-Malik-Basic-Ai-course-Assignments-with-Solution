{
  "nbformat": 4,
  "nbformat_minor": 0,
  "metadata": {
    "colab": {
      "provenance": []
    },
    "kernelspec": {
      "name": "python3",
      "display_name": "Python 3"
    },
    "language_info": {
      "name": "python"
    }
  },
  "cells": [
    {
      "cell_type": "markdown",
      "source": [
        "# **Submitted By: Ahmed Islam**#"
      ],
      "metadata": {
        "id": "X_bS8nHApc7Z"
      }
    },
    {
      "cell_type": "markdown",
      "source": [
        "# **Solve the Following Task**"
      ],
      "metadata": {
        "id": "1AWzQRFU-Xmz"
      }
    },
    {
      "cell_type": "markdown",
      "source": [
        "- Write a program that prints the multiplication table of a given number using a for loop."
      ],
      "metadata": {
        "id": "yU-bvL8cTh1E"
      }
    },
    {
      "cell_type": "code",
      "execution_count": 1,
      "metadata": {
        "id": "UC3-4hrWTZvo",
        "colab": {
          "base_uri": "https://localhost:8080/"
        },
        "outputId": "95701ec6-527a-4d30-de97-58a57d5602ee"
      },
      "outputs": [
        {
          "output_type": "stream",
          "name": "stdout",
          "text": [
            "Enter a number: 9\n",
            "Multiplication Table:\n",
            "9 x 1 = 9\n",
            "9 x 2 = 18\n",
            "9 x 3 = 27\n",
            "9 x 4 = 36\n",
            "9 x 5 = 45\n",
            "9 x 6 = 54\n",
            "9 x 7 = 63\n",
            "9 x 8 = 72\n",
            "9 x 9 = 81\n",
            "9 x 10 = 90\n"
          ]
        }
      ],
      "source": [
        "number = int(input(\"Enter a number: \")) # it will get input from the user\n",
        "print(\"Multiplication Table:\")\n",
        "for i in range(1, 11):                 # it will iterate for loop from 1 to 10 to print table\n",
        "   result = number * i                 # result variable will store the multiplication result of input number with i\n",
        "   print(number, \"x\", i, \"=\", result)"
      ]
    },
    {
      "cell_type": "markdown",
      "source": [
        "- Write a program that prints all the even numbers from 1 to 10 using a while loop."
      ],
      "metadata": {
        "id": "P2FWyYoZ8Ts-"
      }
    },
    {
      "cell_type": "code",
      "source": [
        "# Using while to get Even number\n",
        "i = 1               # Initialize a variable 'i' with the value 1\n",
        "while i <= 10:      # Continue the loop as long as 'i' is less than or equal to 10\n",
        "    if i % 2 == 0:  # Check if 'i' is divisible by 2 with no remainder\n",
        "        print(i)    # If 'i' is even, print its value\n",
        "    i = i + 1       # Increment the value of 'i' by 1 in each iteration\n"
      ],
      "metadata": {
        "id": "wMTxtFJCU40L",
        "colab": {
          "base_uri": "https://localhost:8080/"
        },
        "outputId": "b4028fb1-cbd1-4cc3-8fae-a04e71c01c75"
      },
      "execution_count": 2,
      "outputs": [
        {
          "output_type": "stream",
          "name": "stdout",
          "text": [
            "2\n",
            "4\n",
            "6\n",
            "8\n",
            "10\n"
          ]
        }
      ]
    },
    {
      "cell_type": "markdown",
      "source": [
        "- Write a function called \"greet_user\" that takes a user's name as an argument and prints a personalized greeting message."
      ],
      "metadata": {
        "id": "Y1LxbUfJ8sn_"
      }
    },
    {
      "cell_type": "code",
      "source": [
        "def greet_user(name):                                 # Define a function named 'greet_user' that takes a parameter called 'name'\n",
        "    print(f\"Hello, {name}! Welcome to our program.\")  # Print a personalized greeting message using the 'name' parameter\n",
        "\n",
        "user_name = input(\"Enter your name: \")                # Prompt the user to enter their name and store it in the 'user_name' variable\n",
        "greet_user(user_name)                                 # Call the 'greet_user' function and pass the 'user_name' as an argument\n"
      ],
      "metadata": {
        "id": "x3N9mLOS3avK",
        "colab": {
          "base_uri": "https://localhost:8080/"
        },
        "outputId": "1f306126-63c5-4d98-c0c6-ea7bc9b87827"
      },
      "execution_count": 3,
      "outputs": [
        {
          "output_type": "stream",
          "name": "stdout",
          "text": [
            "Enter your name: Ahmed Islam\n",
            "Hello, Ahmed Islam! Welcome to our program.\n"
          ]
        }
      ]
    },
    {
      "cell_type": "markdown",
      "source": [
        "- Write a function called \"is_even\" that takes a number as an argument and returns True if the number is even, and False otherwise."
      ],
      "metadata": {
        "id": "ZiC31K-x9Aaz"
      }
    },
    {
      "cell_type": "code",
      "source": [
        "def is_even(num):                          # define the function named \"is_even\" that takes a parameter \"num\"\n",
        "    if num % 2 == 0:                       # Check if 'i' is divisible by 2 with no remainder\n",
        "        return True                        # return True upon correct condition\n",
        "    else:                                 # check or execute next condition\n",
        "        return False                      # return false upon wrong condition\n",
        "\n",
        "number = int(input(\"Enter any number: \")) # Convert the input to an integer\n",
        "print(is_even(number))                    # Use the print statement to display the result"
      ],
      "metadata": {
        "id": "WG9xlvG86Y59",
        "colab": {
          "base_uri": "https://localhost:8080/"
        },
        "outputId": "0fe23b73-e4d5-44ef-ad9b-8acf8ebd2faa"
      },
      "execution_count": 4,
      "outputs": [
        {
          "output_type": "stream",
          "name": "stdout",
          "text": [
            "Enter any number: 5\n",
            "False\n"
          ]
        }
      ]
    }
  ]
}